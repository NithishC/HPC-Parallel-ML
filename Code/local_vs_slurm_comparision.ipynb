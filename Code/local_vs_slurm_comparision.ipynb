{
 "cells": [
  {
   "cell_type": "markdown",
   "id": "e56e4ab4-33ac-4261-bfa3-1d0e39dcb0b8",
   "metadata": {
    "tags": []
   },
   "source": [
    "### Dataset Link\n",
    "\n",
    "\n",
    "#### Yahoo Finance https://www.kaggle.com/datasets/jacksoncrow/stock-market-dataset?select=symbols_valid_meta.csv\n",
    "\n",
    "#### NEWS API https://newsapi.org/docs/client-libraries/python"
   ]
  },
  {
   "cell_type": "markdown",
   "id": "6027a788-5348-4825-858a-68d2f172a724",
   "metadata": {},
   "source": [
    "### Import necessary packages for the project"
   ]
  },
  {
   "cell_type": "code",
   "execution_count": 1,
   "id": "f486c7fc-e9ec-4095-9a90-decbeea2032e",
   "metadata": {},
   "outputs": [],
   "source": [
    "import os\n",
    "\n",
    "import time\n",
    "import warnings\n",
    "\n",
    "import seaborn as sns\n",
    "import matplotlib.pyplot as plt\n",
    "\n",
    "import dask.dataframe as dd\n",
    "from dask import delayed, compute\n",
    "\n",
    "from IPython.display import display, HTML\n",
    "\n",
    "from dask.distributed import Client\n",
    "from dask_jobqueue import SLURMCluster\n",
    "from dask.distributed import LocalCluster"
   ]
  },
  {
   "cell_type": "markdown",
   "id": "e5524243-1eb0-4bb1-89c2-93c33e83c437",
   "metadata": {},
   "source": [
    "### Set the working directory and dataset path"
   ]
  },
  {
   "cell_type": "code",
   "execution_count": 2,
   "id": "563127e1-9171-4706-a0e3-b108fc310c48",
   "metadata": {
    "tags": []
   },
   "outputs": [],
   "source": [
    "working_directory = '/home/rajagopalmohanraj.n/HPC/final_project/'\n",
    "datasets = working_directory + 'datasets/'"
   ]
  },
  {
   "cell_type": "code",
   "execution_count": 3,
   "id": "bcc29abc-046e-45c7-ae16-5338d4ae4164",
   "metadata": {
    "tags": []
   },
   "outputs": [],
   "source": [
    "def get_csv():\n",
    "    \n",
    "    \"\"\"\n",
    "    Read all CSV files from the 'stocks' folder, add a Stock Symbol column,\n",
    "    and return a Dask DataFrame.\n",
    "    \"\"\"\n",
    "    \n",
    "    # Reading all CSV files and adding Stock Symbol\n",
    "    stock_df = dd.read_csv(\n",
    "        f'{datasets}stocks/*.csv',\n",
    "        blocksize='16MB',\n",
    "        dtype={\n",
    "            'Date': 'str',\n",
    "            'Open': 'float64',\n",
    "            'High': 'float64',\n",
    "            'Low': 'float64',\n",
    "            'Close': 'float64',\n",
    "            'Volume': 'float64'\n",
    "        },\n",
    "        include_path_column='source_file'  # Adds filename as a column\n",
    "    )\n",
    "    \n",
    "    # Extracting stock symbol from filename\n",
    "    stock_df['Symbol'] = stock_df['source_file'].map_partitions(\n",
    "        lambda x: x.str.extract(r'([A-Z]+)\\.csv$')[0]\n",
    "    )\n",
    "    \n",
    "    # Dropping the source_file column\n",
    "    stock_df = stock_df.drop('source_file', axis=1)\n",
    "    stock_df = stock_df.repartition(npartitions=200)\n",
    "    stock_df = stock_df.persist()\n",
    "    return stock_df"
   ]
  },
  {
   "cell_type": "code",
   "execution_count": 4,
   "id": "b36f31e4-9f6a-4cba-8001-12cf553ab6f1",
   "metadata": {
    "tags": []
   },
   "outputs": [],
   "source": [
    "def cluster_comparision_for_get_csv():\n",
    "    \n",
    "    \"\"\"\n",
    "    Compare the execution time of get_csv() function using LocalCluster and SLURMCluster.\n",
    "    Returns a dictionary with timing results.\n",
    "    \"\"\"\n",
    "    \n",
    "    timing_results = {'LocalCluster': 0, 'SLURMCluster': 0}\n",
    "    \n",
    "    # Ignoring warnings related to cluster running ports\n",
    "    with warnings.catch_warnings():\n",
    "        warnings.simplefilter(\"ignore\")\n",
    "        \n",
    "        # Local Cluster\n",
    "        with LocalCluster(n_workers=8, threads_per_worker=4, memory_limit='16GB', processes=False) as cluster:\n",
    "            with Client(cluster) as client:\n",
    "                display(HTML(f\"<a href='{client.dashboard_link}'>Dask Dashboard</a>\"))\n",
    "                print(f\"Dashboard link: {client.dashboard_link}\")\n",
    "                print(f\"Cluster status: {client.status}\")\n",
    "                \n",
    "                start_time = time.time()\n",
    "                df = get_csv()\n",
    "                rows, columns = df.shape[0].compute(), df.shape[1]\n",
    "                print(f\"The size of the df is : {rows}, {columns}\")\n",
    "                timing_results['LocalCluster'] = time.time() - start_time\n",
    "                \n",
    "                client.close()\n",
    "                cluster.close()\n",
    "            \n",
    "        # SLURM Cluster\n",
    "        with SLURMCluster(cores=8, processes=4, memory=\"16GB\", queue=\"short\", walltime=\"01:00:00\") as cluster:\n",
    "            cluster.adapt(minimum=5, maximum=10)\n",
    "            with Client(cluster) as client:\n",
    "                display(HTML(f\"<a href='{client.dashboard_link}'>Dask Dashboard</a>\"))\n",
    "                print(f\"Dashboard link: {client.dashboard_link}\")\n",
    "                print(f\"Cluster status: {client.status}\")\n",
    "                \n",
    "                start_time = time.time()\n",
    "                df = get_csv()\n",
    "                rows, columns = df.shape[0].compute(), df.shape[1]\n",
    "                print(f\"The size of the df is : {rows}, {columns}\")\n",
    "                timing_results['SLURMCluster'] = time.time() - start_time\n",
    "                \n",
    "                client.close()\n",
    "                cluster.close()\n",
    "\n",
    "    return timing_results"
   ]
  },
  {
   "cell_type": "code",
   "execution_count": 5,
   "id": "9fa057d5-bb52-463b-acd7-f5f511db15ba",
   "metadata": {
    "tags": []
   },
   "outputs": [],
   "source": [
    "def plot_comparison(results):\n",
    "    \n",
    "    \"\"\"\n",
    "    Plot a bar chart comparing the execution times of LocalCluster and SLURMCluster.\n",
    "    \"\"\"\n",
    "    \n",
    "    plt.figure(figsize=(8, 5))\n",
    "    plt.bar(results.keys(), results.values(), color=['blue', 'orange'])\n",
    "    plt.ylabel('Execution Time (seconds)')\n",
    "    plt.title('Data Loading Time: LocalCluster vs SLURMCluster')\n",
    "    \n",
    "    # Adding Time labels on bars\n",
    "    for i, (cluster, time) in enumerate(results.items()):\n",
    "        plt.text(i, time + 0.2, f'{time:.2f}', ha='center')\n",
    "    \n",
    "    plt.show()"
   ]
  },
  {
   "cell_type": "code",
   "execution_count": 6,
   "id": "e3d89523-68fd-42fa-9a15-826606f26f8d",
   "metadata": {
    "tags": []
   },
   "outputs": [
    {
     "data": {
      "text/html": [
       "<a href='http://10.99.253.33:8787/status'>Dask Dashboard</a>"
      ],
      "text/plain": [
       "<IPython.core.display.HTML object>"
      ]
     },
     "metadata": {},
     "output_type": "display_data"
    },
    {
     "name": "stdout",
     "output_type": "stream",
     "text": [
      "Dashboard link: http://10.99.253.33:8787/status\n",
      "Cluster status: running\n",
      "The size of the df is : 24197442, 8\n"
     ]
    },
    {
     "data": {
      "text/html": [
       "<a href='http://10.99.253.33:8787/status'>Dask Dashboard</a>"
      ],
      "text/plain": [
       "<IPython.core.display.HTML object>"
      ]
     },
     "metadata": {},
     "output_type": "display_data"
    },
    {
     "name": "stdout",
     "output_type": "stream",
     "text": [
      "Dashboard link: http://10.99.253.33:8787/status\n",
      "Cluster status: running\n",
      "The size of the df is : 24197442, 8\n"
     ]
    },
    {
     "name": "stderr",
     "output_type": "stream",
     "text": [
      "2024-12-01 22:40:26,508 - distributed.deploy.adaptive_core - INFO - Adaptive stop\n"
     ]
    },
    {
     "data": {
      "text/plain": [
       "{'LocalCluster': 328.96377873420715, 'SLURMCluster': 78.71846580505371}"
      ]
     },
     "execution_count": 6,
     "metadata": {},
     "output_type": "execute_result"
    }
   ],
   "source": [
    "results = cluster_comparision_for_get_csv()\n",
    "results"
   ]
  },
  {
   "cell_type": "code",
   "execution_count": 7,
   "id": "8744be6e-afe0-46b4-be50-6b47720cc419",
   "metadata": {
    "tags": []
   },
   "outputs": [
    {
     "data": {
      "image/png": "[encoded data removed]",
      "text/plain": [
       "<Figure size 800x500 with 1 Axes>"
      ]
     },
     "metadata": {},
     "output_type": "display_data"
    }
   ],
   "source": [
    "plot_comparison(results)"
   ]
  }
 ],
 "metadata": {
  "kernelspec": {
   "display_name": "Python 3 (ipykernel)",
   "language": "python",
   "name": "python3"
  },
  "language_info": {
   "codemirror_mode": {
    "name": "ipython",
    "version": 3
   },
   "file_extension": ".py",
   "mimetype": "text/x-python",
   "name": "python",
   "nbconvert_exporter": "python",
   "pygments_lexer": "ipython3",
   "version": "3.9.12"
  }
 },
 "nbformat": 4,
 "nbformat_minor": 5
}
